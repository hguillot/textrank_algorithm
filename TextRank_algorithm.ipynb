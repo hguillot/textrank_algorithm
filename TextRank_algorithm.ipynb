{
  "nbformat": 4,
  "nbformat_minor": 0,
  "metadata": {
    "colab": {
      "name": "Untitled7.ipynb",
      "provenance": []
    },
    "kernelspec": {
      "name": "python3",
      "display_name": "Python 3"
    },
    "language_info": {
      "name": "python"
    }
  },
  "cells": [
    {
      "cell_type": "markdown",
      "metadata": {
        "id": "qJeg_fSJHR1E"
      },
      "source": [
        "# Python libraries\n",
        "First of all we start by installing different libraries to be used throughout the project, we use libraries like:\n",
        "*   pandas and numpy for handling datasets\n",
        "*   sklearn for the use of TfidfVectorizer and cosine_similarity\n",
        "*   gensim for the natural language processing\n",
        "*   networkx for the graph\n",
        "\n",
        "\n",
        "\n",
        "\n",
        "\n"
      ]
    },
    {
      "cell_type": "code",
      "metadata": {
        "id": "SCR3_KIl3Hu5"
      },
      "source": [
        "import numpy as np\n",
        "import pandas as pd\n",
        "import nltk\n",
        "nltk.download('punkt') # one time execution\n",
        "from nltk.tokenize import sent_tokenize\n",
        "import re\n",
        "\n",
        "!pip install --upgrade gensim\n",
        "from gensim.models import Word2Vec\n",
        "from sklearn.feature_extraction.text import TfidfVectorizer\n",
        "from sklearn.metrics.pairwise import cosine_similarity\n",
        "\n",
        "import networkx as nx"
      ],
      "execution_count": null,
      "outputs": []
    },
    {
      "cell_type": "markdown",
      "metadata": {
        "id": "IAFBsuaZJYM0"
      },
      "source": [
        "# The Data\n",
        "For this example we will be using aleatory sentences for product comments. Is necessary separate the comments in sentences."
      ]
    },
    {
      "cell_type": "code",
      "metadata": {
        "id": "xR6Bm_t-gKwS"
      },
      "source": [
        "sentences1 = ['Estou contente com a compra entrega rápida o único problema com as Americanas é se houver troca ou devolução do produto o consumidor tem problemas com espera.',\n",
        "              'eu consegui comprar esse lindo copo de acrílico.',\n",
        "              'SUPERA EM AGILIDADE E PRATICIDADE OUTRAS PANELAS ELÉTRICAS.  COSTUMO USAR OUTRA PANELA PARA COZIMENTO DE ARROZ (JAPONESA), MAS LEVA MUITO TEMPO,  +/- 50 MINUTOS.  NESSA PANELA  É MUITO MAIS RÁPIDO, EXATAMENTE 6 MINUTOS.    EU RECOMENDO.', \n",
        "              'A entrega foi no prazo, as americanas estão de parabéns. A smart tv é muito boa, a navegação na internete e pelos aplicativos e excelente, não trava, sem falar da imagem que é de surpreender. recomendo.',\n",
        "              'até o momento esse produto não chegou em minha residência', \n",
        "              'Produto bom, porém longe de excelente',\n",
        "              'Comprei a prancha babyliss Pro Nano dia 27/02 é até o momento não recebi o produto o prazo de entrega foi até 16/03. Nunca tive problema com a site americanas mais essa compra foi com o parceiro Miracurl que não cumpriu com seu deveres. Estou ratreando o produto no site do correios e o que informa que o produto não chegou no correio de São Gonçalo. O mínimo que a Miracurl podia fazer é enviar o produto de novo via transportadora ou Sedex 10 para cumprir com o cliente. Só quero que entregue o produto ou então que reembolso o dinheiro.Pois a compra foi paga via cartão. Insatisfeita com parceiro da americana. Produto da empresa Miracurl não compro mais.', \n",
        "              'Aparelho atende bem as necessidades do dia-a-dia, sem requerer maiores dificuldades ou esforço para operar.',\n",
        "              'Comprei pela internet e em nenhum momento falava que o engate da antena não é de antena. ou seja, a gente paga 32,00 pelo produto, mais uns 20 de frete e agora vou ter de gasstar mais 20 num \"\"ADAPTADOR\"\" , pois o engate não dá certo na TV ... ENTAO, por que está escrito ANTENA PRA TV DIGITAL se o ENGATE não é de TV??? Se pudesse devolveria e mandaria pro lixo e reaver o dinheiro... Só de pensar na BURROCRACIA, desisto, além do LIXO DE ENTREGA, que demorou quase UM MES, isso dentro da normalidade .... Imagina devolver um produto e tentar REAVER o R$ colocado fora ...', \n",
        "              'O produto não gela. Apenas deixa frio. Nunca coloquei nada natural para ver se gela. Sempre tirei as coisas direto da geladeira. Na parte da tarde que é mais quente água por exemplo está apenas fria. Mas achei melhor que garrafa térmica, mas com investimento bem maior também.',\n",
        "              'Fiquei um pouco decepcionada com o produto. A cadeirinha é bonita e confortavel, como mostrado na foto.   Ela enquadra a crianca em 3 categorias de acordo com o peso. Minha filha tem 4 anos é alta e possui 25 quilos, possui as coxas grossas com isso o cinto da cadeirinha nao a prende mesmo afrouxando o cinto. Consegui inclui la na categoria 2 em que a cadeirinha fica solta no carro e serve como um assento para a criança que é presa pelo cinto de segurança do carro. Como minha filha é alta, ficou certinho mais se fosse baixa estatura não daria certo. Fiquei incomodada com essa adequacao pois nao é descrita no ato da venda e a inclinação prometida nao entra nessa categoria. A criança fica sentada ereta e a cabecinha nao tem tanto apoio.  O manual é descrito de forma complexa, poderia ser mais simples.  A entrega foi no prazo estipulado, nem antes e nem depois.']"
      ],
      "execution_count": 17,
      "outputs": []
    },
    {
      "cell_type": "code",
      "metadata": {
        "colab": {
          "base_uri": "https://localhost:8080/"
        },
        "id": "WPwQ44fjgqkw",
        "outputId": "81204400-48d3-43ff-d153-ae50db8c22db"
      },
      "source": [
        "sentences = []\n",
        "for s in sentences1:\n",
        "  sentences.append(sent_tokenize(s))\n",
        "\n",
        "sentences = [y for x in sentences for y in x]\n",
        "sentences"
      ],
      "execution_count": 18,
      "outputs": [
        {
          "output_type": "execute_result",
          "data": {
            "text/plain": [
              "['Estou contente com a compra entrega rápida o único problema com as Americanas é se houver troca ou devolução do produto o consumidor tem problemas com espera.',\n",
              " 'eu consegui comprar esse lindo copo de acrílico.',\n",
              " 'SUPERA EM AGILIDADE E PRATICIDADE OUTRAS PANELAS ELÉTRICAS.',\n",
              " 'COSTUMO USAR OUTRA PANELA PARA COZIMENTO DE ARROZ (JAPONESA), MAS LEVA MUITO TEMPO,  +/- 50 MINUTOS.',\n",
              " 'NESSA PANELA  É MUITO MAIS RÁPIDO, EXATAMENTE 6 MINUTOS.',\n",
              " 'EU RECOMENDO.',\n",
              " 'A entrega foi no prazo, as americanas estão de parabéns.',\n",
              " 'A smart tv é muito boa, a navegação na internete e pelos aplicativos e excelente, não trava, sem falar da imagem que é de surpreender.',\n",
              " 'recomendo.',\n",
              " 'até o momento esse produto não chegou em minha residência',\n",
              " 'Produto bom, porém longe de excelente',\n",
              " 'Comprei a prancha babyliss Pro Nano dia 27/02 é até o momento não recebi o produto o prazo de entrega foi até 16/03.',\n",
              " 'Nunca tive problema com a site americanas mais essa compra foi com o parceiro Miracurl que não cumpriu com seu deveres.',\n",
              " 'Estou ratreando o produto no site do correios e o que informa que o produto não chegou no correio de São Gonçalo.',\n",
              " 'O mínimo que a Miracurl podia fazer é enviar o produto de novo via transportadora ou Sedex 10 para cumprir com o cliente.',\n",
              " 'Só quero que entregue o produto ou então que reembolso o dinheiro.Pois a compra foi paga via cartão.',\n",
              " 'Insatisfeita com parceiro da americana.',\n",
              " 'Produto da empresa Miracurl não compro mais.',\n",
              " 'Aparelho atende bem as necessidades do dia-a-dia, sem requerer maiores dificuldades ou esforço para operar.',\n",
              " 'Comprei pela internet e em nenhum momento falava que o engate da antena não é de antena.',\n",
              " 'ou seja, a gente paga 32,00 pelo produto, mais uns 20 de frete e agora vou ter de gasstar mais 20 num \"\"ADAPTADOR\"\" , pois o engate não dá certo na TV ... ENTAO, por que está escrito ANTENA PRA TV DIGITAL se o ENGATE não é de TV???',\n",
              " 'Se pudesse devolveria e mandaria pro lixo e reaver o dinheiro... Só de pensar na BURROCRACIA, desisto, além do LIXO DE ENTREGA, que demorou quase UM MES, isso dentro da normalidade .... Imagina devolver um produto e tentar REAVER o R$ colocado fora ...',\n",
              " 'O produto não gela.',\n",
              " 'Apenas deixa frio.',\n",
              " 'Nunca coloquei nada natural para ver se gela.',\n",
              " 'Sempre tirei as coisas direto da geladeira.',\n",
              " 'Na parte da tarde que é mais quente água por exemplo está apenas fria.',\n",
              " 'Mas achei melhor que garrafa térmica, mas com investimento bem maior também.',\n",
              " 'Fiquei um pouco decepcionada com o produto.',\n",
              " 'A cadeirinha é bonita e confortavel, como mostrado na foto.',\n",
              " 'Ela enquadra a crianca em 3 categorias de acordo com o peso.',\n",
              " 'Minha filha tem 4 anos é alta e possui 25 quilos, possui as coxas grossas com isso o cinto da cadeirinha nao a prende mesmo afrouxando o cinto.',\n",
              " 'Consegui inclui la na categoria 2 em que a cadeirinha fica solta no carro e serve como um assento para a criança que é presa pelo cinto de segurança do carro.',\n",
              " 'Como minha filha é alta, ficou certinho mais se fosse baixa estatura não daria certo.',\n",
              " 'Fiquei incomodada com essa adequacao pois nao é descrita no ato da venda e a inclinação prometida nao entra nessa categoria.',\n",
              " 'A criança fica sentada ereta e a cabecinha nao tem tanto apoio.',\n",
              " 'O manual é descrito de forma complexa, poderia ser mais simples.',\n",
              " 'A entrega foi no prazo estipulado, nem antes e nem depois.']"
            ]
          },
          "metadata": {},
          "execution_count": 18
        }
      ]
    },
    {
      "cell_type": "markdown",
      "metadata": {
        "id": "lXyXZGUzuwPf"
      },
      "source": [
        "# TextRank Algorithm \n",
        "\n",
        "Process the text eliminating stop words, minimizing the whole sentence,eliminating special characters"
      ]
    },
    {
      "cell_type": "code",
      "metadata": {
        "id": "1x2zVHmGmHCi"
      },
      "source": [
        "with open('stop_words_portuguese.txt') as infile:\n",
        "    stopWords = set([line.strip() for line in infile])\n",
        "    \n",
        "# remove punctuations, numbers and special characters\n",
        "clean_sentences = pd.Series(sentences).str.replace(\"\\W\", \" \")\n",
        "\n",
        "# make alphabets lowercase\n",
        "clean_sentences = [s.lower() for s in clean_sentences]\n",
        "\n",
        "def remove_stopwords(sen):\n",
        "    sen_new = \" \".join([i for i in sen if i not in stopWords])\n",
        "    return sen_new\n",
        "\n",
        "# remove stopwords from the sentences\n",
        "clean_sentences = [remove_stopwords(r.split()) for r in clean_sentences]\n",
        "\n",
        "#clean_sentences"
      ],
      "execution_count": 19,
      "outputs": []
    },
    {
      "cell_type": "markdown",
      "metadata": {
        "id": "BqQl6xGnu5GH"
      },
      "source": [
        "Find a vector representation for each sentence."
      ]
    },
    {
      "cell_type": "code",
      "metadata": {
        "id": "pceliKcZgvRQ",
        "colab": {
          "base_uri": "https://localhost:8080/"
        },
        "outputId": "048e0be1-32ac-464e-96eb-7590e8e4152b"
      },
      "source": [
        "#calcular el tf*idf\n",
        "vectorizer = TfidfVectorizer(stop_words=stopWords)\n",
        "#X = vectorizer.fit_transform(sentences)\n",
        "\n",
        "#calcular matrix E\n",
        "analyzer = vectorizer.build_analyzer()\n",
        "\n",
        "word_embeddings = Word2Vec([analyzer(sentence) for sentence in clean_sentences], min_count=1)\n",
        "\n",
        "sentence_vectors = []\n",
        "for i in clean_sentences:\n",
        "  if len(i) != 0:\n",
        "    v = sum([word_embeddings.wv[w] for w in analyzer(i)])/(len(i.split())+0.001)\n",
        "  else:\n",
        "    v = np.zeros((1,))\n",
        "  sentence_vectors.append(v)\n",
        "#sentence_vectors"
      ],
      "execution_count": 20,
      "outputs": [
        {
          "output_type": "stream",
          "name": "stdout",
          "text": [
            "Word2Vec(vocab=238, vector_size=100, alpha=0.025)\n"
          ]
        }
      ]
    },
    {
      "cell_type": "markdown",
      "metadata": {
        "id": "-4xxk_0ZvOhV"
      },
      "source": [
        "Compute the similarity between the sentences and store the values in asquare similarity matrix"
      ]
    },
    {
      "cell_type": "code",
      "metadata": {
        "id": "KrMAIVlvuovE"
      },
      "source": [
        "# similarity matrix\n",
        "sim_mat = np.zeros([len(sentences), len(sentences)])\n",
        "\n",
        "for i in range(len(sentences)):\n",
        "  for j in range(len(sentences)):\n",
        "    if i != j:\n",
        "      sim_mat[i][j] = cosine_similarity(sentence_vectors[i].reshape(1,100), sentence_vectors[j].reshape(1,100))[0,0]"
      ],
      "execution_count": 23,
      "outputs": []
    },
    {
      "cell_type": "markdown",
      "metadata": {
        "id": "tEzaZVryvUeF"
      },
      "source": [
        "Apply the PageRank algorithm as usual but using the similarity matrix"
      ]
    },
    {
      "cell_type": "code",
      "metadata": {
        "id": "GommaS3vvPOQ",
        "colab": {
          "base_uri": "https://localhost:8080/"
        },
        "outputId": "0015b354-c17c-445a-de6f-cab2dbcd96f7"
      },
      "source": [
        "nx_graph = nx.from_numpy_array(sim_mat)\n",
        "scores = nx.pagerank_numpy(nx_graph)"
      ],
      "execution_count": 24,
      "outputs": [
        {
          "output_type": "stream",
          "name": "stderr",
          "text": [
            "/usr/local/lib/python3.7/dist-packages/ipykernel_launcher.py:2: DeprecationWarning: networkx.pagerank_numpy is deprecated and will be removed in NetworkX 3.0, use networkx.pagerank instead.\n",
            "  \n"
          ]
        }
      ]
    },
    {
      "cell_type": "code",
      "metadata": {
        "id": "ZyRp-VcSwIZZ",
        "colab": {
          "base_uri": "https://localhost:8080/"
        },
        "outputId": "5c5399b4-8eeb-45c9-da0e-623e979c1648"
      },
      "source": [
        "ranked_sentences = sorted(((scores[i],s) for i,s in enumerate(sentences)), reverse=True)\n",
        "print('TextRank Score - Comment')\n",
        "for i in range(len(sentences)):\n",
        "  print(str(ranked_sentences[i][0]) + ' - ' + ranked_sentences[i][1])"
      ],
      "execution_count": 30,
      "outputs": [
        {
          "output_type": "stream",
          "name": "stdout",
          "text": [
            "TextRank Score - Comment\n",
            "11284492996178.58 - Estou contente com a compra entrega rápida o único problema com as Americanas é se houver troca ou devolução do produto o consumidor tem problemas com espera.\n",
            "11059673196972.896 - A entrega foi no prazo, as americanas estão de parabéns.\n",
            "10448089544935.06 - Nunca tive problema com a site americanas mais essa compra foi com o parceiro Miracurl que não cumpriu com seu deveres.\n",
            "10429566458731.426 - A entrega foi no prazo estipulado, nem antes e nem depois.\n",
            "9765629621361.48 - O produto não gela.\n",
            "8123219411057.602 - Só quero que entregue o produto ou então que reembolso o dinheiro.Pois a compra foi paga via cartão.\n",
            "6387374258807.039 - Nunca coloquei nada natural para ver se gela.\n",
            "6065229919203.168 - Comprei a prancha babyliss Pro Nano dia 27/02 é até o momento não recebi o produto o prazo de entrega foi até 16/03.\n",
            "3419111037379.5874 - SUPERA EM AGILIDADE E PRATICIDADE OUTRAS PANELAS ELÉTRICAS.\n",
            "2720434130058.16 - NESSA PANELA  É MUITO MAIS RÁPIDO, EXATAMENTE 6 MINUTOS.\n",
            "2688014679013.2393 - O manual é descrito de forma complexa, poderia ser mais simples.\n",
            "1678470099331.4397 - Estou ratreando o produto no site do correios e o que informa que o produto não chegou no correio de São Gonçalo.\n",
            "1184266614300.6626 - O mínimo que a Miracurl podia fazer é enviar o produto de novo via transportadora ou Sedex 10 para cumprir com o cliente.\n",
            "1008097860759.1147 - Se pudesse devolveria e mandaria pro lixo e reaver o dinheiro... Só de pensar na BURROCRACIA, desisto, além do LIXO DE ENTREGA, que demorou quase UM MES, isso dentro da normalidade .... Imagina devolver um produto e tentar REAVER o R$ colocado fora ...\n",
            "943908831154.5948 - Produto da empresa Miracurl não compro mais.\n",
            "690228799943.731 - A criança fica sentada ereta e a cabecinha nao tem tanto apoio.\n",
            "535520259471.5402 - Como minha filha é alta, ficou certinho mais se fosse baixa estatura não daria certo.\n",
            "340267880567.0625 - eu consegui comprar esse lindo copo de acrílico.\n",
            "-204187949849.83398 - Fiquei um pouco decepcionada com o produto.\n",
            "-304503860008.9354 - A cadeirinha é bonita e confortavel, como mostrado na foto.\n",
            "-676618120297.5518 - Mas achei melhor que garrafa térmica, mas com investimento bem maior também.\n",
            "-1348255088535.4666 - Minha filha tem 4 anos é alta e possui 25 quilos, possui as coxas grossas com isso o cinto da cadeirinha nao a prende mesmo afrouxando o cinto.\n",
            "-1500193301597.4128 - COSTUMO USAR OUTRA PANELA PARA COZIMENTO DE ARROZ (JAPONESA), MAS LEVA MUITO TEMPO,  +/- 50 MINUTOS.\n",
            "-1821652213466.3289 - Fiquei incomodada com essa adequacao pois nao é descrita no ato da venda e a inclinação prometida nao entra nessa categoria.\n",
            "-1915046515947.056 - até o momento esse produto não chegou em minha residência\n",
            "-2124595543939.747 - Aparelho atende bem as necessidades do dia-a-dia, sem requerer maiores dificuldades ou esforço para operar.\n",
            "-2262883057916.2534 - A smart tv é muito boa, a navegação na internete e pelos aplicativos e excelente, não trava, sem falar da imagem que é de surpreender.\n",
            "-2516478706761.009 - Na parte da tarde que é mais quente água por exemplo está apenas fria.\n",
            "-2995741370204.9995 - Insatisfeita com parceiro da americana.\n",
            "-3121624468294.957 - Produto bom, porém longe de excelente\n",
            "-4915212691400.241 - Consegui inclui la na categoria 2 em que a cadeirinha fica solta no carro e serve como um assento para a criança que é presa pelo cinto de segurança do carro.\n",
            "-7885384868214.806 - Comprei pela internet e em nenhum momento falava que o engate da antena não é de antena.\n",
            "-7938682982309.148 - Sempre tirei as coisas direto da geladeira.\n",
            "-8605798758794.453 - Apenas deixa frio.\n",
            "-8720286832823.424 - recomendo.\n",
            "-8720286832823.424 - EU RECOMENDO.\n",
            "-9053626162171.613 - Ela enquadra a crianca em 3 categorias de acordo com o peso.\n",
            "-12140536273868.723 - ou seja, a gente paga 32,00 pelo produto, mais uns 20 de frete e agora vou ter de gasstar mais 20 num \"\"ADAPTADOR\"\" , pois o engate não dá certo na TV ... ENTAO, por que está escrito ANTENA PRA TV DIGITAL se o ENGATE não é de TV???\n"
          ]
        }
      ]
    }
  ]
}